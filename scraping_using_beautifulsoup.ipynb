{
  "nbformat": 4,
  "nbformat_minor": 0,
  "metadata": {
    "colab": {
      "name": "scraping using beautifulsoup.ipynb",
      "provenance": [],
      "collapsed_sections": []
    },
    "kernelspec": {
      "name": "python3",
      "display_name": "Python 3"
    },
    "language_info": {
      "name": "python"
    }
  },
  "cells": [
    {
      "cell_type": "markdown",
      "source": [
        "#Scraping website using beautifulsoup\n",
        "\n",
        "In this notebook, we are going to collect data from the website: \n",
        "\n",
        "This website is **static**, making our lives easier when we try to get the HTTP response and parse it.\n",
        "Other **dynamic** websites might be tricky to handle. You might need to use different advanced technics such as Selenium and scrapy (You can check other notebooks listed here)\n",
        "\n",
        "##Packages Used\n",
        "\n",
        "\n",
        "1.   requests\n",
        "2.   bs\n",
        "\n",
        "\n",
        "##Output type\n",
        "\n",
        "*   CSV file\n",
        "\n",
        "\n",
        "##Steps to follow\n",
        "\n",
        "\n",
        "1.   Request the link via requests module\n",
        "2.   Get content and turn it into soup\n",
        "3.   Parse the soup and retrieve the data\n",
        "4.   Store the data in your local memory\n",
        "\n",
        "\n",
        "\n",
        "\n"
      ],
      "metadata": {
        "id": "NN10JKsSaPcg"
      }
    },
    {
      "cell_type": "code",
      "execution_count": 4,
      "metadata": {
        "colab": {
          "base_uri": "https://localhost:8080/"
        },
        "id": "yxVPa-MdSIcA",
        "outputId": "5bee7c60-5562-490e-f4a8-e2a5356915f9"
      },
      "outputs": [
        {
          "output_type": "stream",
          "name": "stdout",
          "text": [
            "Requirement already satisfied: beautifulsoup4 in /usr/local/lib/python3.7/dist-packages (4.6.3)\n"
          ]
        }
      ],
      "source": [
        "#installing bs package\n",
        "!pip install beautifulsoup4"
      ]
    },
    {
      "cell_type": "code",
      "source": [
        "# Importing the packages we are going to use \n",
        "import requests\n",
        "from bs4 import BeautifulSoup as bs\n"
      ],
      "metadata": {
        "id": "Z63vFwAbSMDi"
      },
      "execution_count": 5,
      "outputs": []
    },
    {
      "cell_type": "code",
      "source": [
        "# url to the products available in realpython\n",
        "url = \"https://realpython.com/products/\"\n",
        "images_folder =\"images\""
      ],
      "metadata": {
        "id": "YgBcXm2vddgy"
      },
      "execution_count": 80,
      "outputs": []
    },
    {
      "cell_type": "code",
      "source": [
        "def get_soup(url):\n",
        "  '''\n",
        "  Request the url and turn it into soup\n",
        "  Return : soup abject\n",
        "  Displays a pretty look of html \n",
        "  '''\n",
        "  #request the html\n",
        "  page = requests.get(url)\n",
        "  #Turn html into soup\n",
        "  soup = bs(page.content, \"html.parser\")\n",
        "  return soup"
      ],
      "metadata": {
        "id": "NrZuwV99hZvJ"
      },
      "execution_count": 81,
      "outputs": []
    },
    {
      "cell_type": "code",
      "source": [
        "import os\n",
        "\n",
        "def download_image(url,name,folder):\n",
        "  \"\"\"\n",
        "  Download the image and save it to the folder\n",
        "  Return : None\n",
        "  \"\"\"\n",
        "  img = requests.get(url).content\n",
        "  #Extract name from url\n",
        "  \n",
        "  path_of_save =os.path.join(folder,name)\n",
        "  with open(path_of_save, 'wb') as handler:\n",
        "      handler.write(img)"
      ],
      "metadata": {
        "id": "CfNiBL9GqyQC"
      },
      "execution_count": 82,
      "outputs": []
    },
    {
      "cell_type": "code",
      "source": [
        "\n",
        "def get_products(url):\n",
        "  '''\n",
        "  List all the available products in the url page\n",
        "  output: List of porducts\n",
        "  Display dataframe of the results\n",
        "  '''\n",
        "  results = []\n",
        "  soup = get_soup(url)\n",
        "  #Get the list of div that contain prods\n",
        "  products =  soup.find_all(\"div\", class_=\"mt-5 mb-3 alert\")\n",
        "  for index, product in enumerate(products):\n",
        "   \n",
        "    # name of product is in the first paragraph\n",
        "    name = product.find('p').text\n",
        "    # the image link is within an href \n",
        "    img_link = product.find('img').get(\"src\")\n",
        "    img_name = img_link.strip().split(\".\")[-2] + '.png'\n",
        "    # descrption is in a div with class attribut col \n",
        "    description = product.find(\"div\", class_=\"col\").find('p').text \n",
        "    download_image(img_link,img_name,images_folder)\n",
        "    results.append([name,description,img_name])\n",
        "    #print(f'Product name:  {name} image link : {img_link} desc :  {description}')\n",
        "\n",
        "  return results\n",
        "    "
      ],
      "metadata": {
        "id": "6cjF738zTRwt"
      },
      "execution_count": 83,
      "outputs": []
    },
    {
      "cell_type": "code",
      "source": [
        "products = get_products(url)"
      ],
      "metadata": {
        "id": "lfWmBCygmINq"
      },
      "execution_count": 84,
      "outputs": []
    },
    {
      "cell_type": "code",
      "source": [
        "# Turning list into dataframe\n",
        "import pandas as pd\n",
        "\n",
        "df = pd.DataFrame (products, columns = ['Title','Description','Image_name']) \n",
        "\n",
        "df"
      ],
      "metadata": {
        "colab": {
          "base_uri": "https://localhost:8080/",
          "height": 488
        },
        "id": "X8jUGdEts1N5",
        "outputId": "124c2ed7-b8ed-4313-dbeb-4139f48dd3d0"
      },
      "execution_count": 85,
      "outputs": [
        {
          "output_type": "execute_result",
          "data": {
            "text/plain": [
              "                                               Title  \\\n",
              "0  Real Python Membership:Master Real-World Pytho...   \n",
              "1  Python Basics:A Practical Introduction to Pyth...   \n",
              "2                  Write Cleaner &More Pythonic Code   \n",
              "3  CPython Internals:Your Guide to the Python 3 I...   \n",
              "4               Learn Python Programming, By Example   \n",
              "5  Leverage Python’s Third-Party Package Ecosyste...   \n",
              "6  Optimize Your Python Workflow for Maximum Prod...   \n",
              "7  A Peer-to-Peer Learning Community for Python E...   \n",
              "8                Look Pythonic & Support Real Python   \n",
              "9          Love Python? Show It WithSome Python Swag   \n",
              "\n",
              "                                         Description        Image_name  \n",
              "0  Level up with unlimited access to our vast lib...  daf71ae6460c.png  \n",
              "1  Go from beginner to intermediate in Python wit...  c2d73fad5510.png  \n",
              "2  Discover Python’s best practices with simple e...  9a0964753d24.png  \n",
              "3  Unlock the inner workings of the Python langua...  6f2dc2c60c45.png  \n",
              "4  Learn Python and web development from the grou...  59e4a237633e.png  \n",
              "5  Become a more efficient coder and get your Pyt...  dc1cb874c7a9.png  \n",
              "6  Set up a great Python development environment ...  96a1d0615ac0.png  \n",
              "7  PythonistaCafe is an invite-only, online commu...  601a63434c91.png  \n",
              "8  Support realpython.com with this collection of...  5c4bfd7b7f1d.png  \n",
              "9  Every Pythonista needs a great coffee (or tea!...  5868ff89bfd9.png  "
            ],
            "text/html": [
              "\n",
              "  <div id=\"df-59c7ef03-2920-4609-94ab-381d1425e57c\">\n",
              "    <div class=\"colab-df-container\">\n",
              "      <div>\n",
              "<style scoped>\n",
              "    .dataframe tbody tr th:only-of-type {\n",
              "        vertical-align: middle;\n",
              "    }\n",
              "\n",
              "    .dataframe tbody tr th {\n",
              "        vertical-align: top;\n",
              "    }\n",
              "\n",
              "    .dataframe thead th {\n",
              "        text-align: right;\n",
              "    }\n",
              "</style>\n",
              "<table border=\"1\" class=\"dataframe\">\n",
              "  <thead>\n",
              "    <tr style=\"text-align: right;\">\n",
              "      <th></th>\n",
              "      <th>Title</th>\n",
              "      <th>Description</th>\n",
              "      <th>Image_name</th>\n",
              "    </tr>\n",
              "  </thead>\n",
              "  <tbody>\n",
              "    <tr>\n",
              "      <th>0</th>\n",
              "      <td>Real Python Membership:Master Real-World Pytho...</td>\n",
              "      <td>Level up with unlimited access to our vast lib...</td>\n",
              "      <td>daf71ae6460c.png</td>\n",
              "    </tr>\n",
              "    <tr>\n",
              "      <th>1</th>\n",
              "      <td>Python Basics:A Practical Introduction to Pyth...</td>\n",
              "      <td>Go from beginner to intermediate in Python wit...</td>\n",
              "      <td>c2d73fad5510.png</td>\n",
              "    </tr>\n",
              "    <tr>\n",
              "      <th>2</th>\n",
              "      <td>Write Cleaner &amp;More Pythonic Code</td>\n",
              "      <td>Discover Python’s best practices with simple e...</td>\n",
              "      <td>9a0964753d24.png</td>\n",
              "    </tr>\n",
              "    <tr>\n",
              "      <th>3</th>\n",
              "      <td>CPython Internals:Your Guide to the Python 3 I...</td>\n",
              "      <td>Unlock the inner workings of the Python langua...</td>\n",
              "      <td>6f2dc2c60c45.png</td>\n",
              "    </tr>\n",
              "    <tr>\n",
              "      <th>4</th>\n",
              "      <td>Learn Python Programming, By Example</td>\n",
              "      <td>Learn Python and web development from the grou...</td>\n",
              "      <td>59e4a237633e.png</td>\n",
              "    </tr>\n",
              "    <tr>\n",
              "      <th>5</th>\n",
              "      <td>Leverage Python’s Third-Party Package Ecosyste...</td>\n",
              "      <td>Become a more efficient coder and get your Pyt...</td>\n",
              "      <td>dc1cb874c7a9.png</td>\n",
              "    </tr>\n",
              "    <tr>\n",
              "      <th>6</th>\n",
              "      <td>Optimize Your Python Workflow for Maximum Prod...</td>\n",
              "      <td>Set up a great Python development environment ...</td>\n",
              "      <td>96a1d0615ac0.png</td>\n",
              "    </tr>\n",
              "    <tr>\n",
              "      <th>7</th>\n",
              "      <td>A Peer-to-Peer Learning Community for Python E...</td>\n",
              "      <td>PythonistaCafe is an invite-only, online commu...</td>\n",
              "      <td>601a63434c91.png</td>\n",
              "    </tr>\n",
              "    <tr>\n",
              "      <th>8</th>\n",
              "      <td>Look Pythonic &amp; Support Real Python</td>\n",
              "      <td>Support realpython.com with this collection of...</td>\n",
              "      <td>5c4bfd7b7f1d.png</td>\n",
              "    </tr>\n",
              "    <tr>\n",
              "      <th>9</th>\n",
              "      <td>Love Python? Show It WithSome Python Swag</td>\n",
              "      <td>Every Pythonista needs a great coffee (or tea!...</td>\n",
              "      <td>5868ff89bfd9.png</td>\n",
              "    </tr>\n",
              "  </tbody>\n",
              "</table>\n",
              "</div>\n",
              "      <button class=\"colab-df-convert\" onclick=\"convertToInteractive('df-59c7ef03-2920-4609-94ab-381d1425e57c')\"\n",
              "              title=\"Convert this dataframe to an interactive table.\"\n",
              "              style=\"display:none;\">\n",
              "        \n",
              "  <svg xmlns=\"http://www.w3.org/2000/svg\" height=\"24px\"viewBox=\"0 0 24 24\"\n",
              "       width=\"24px\">\n",
              "    <path d=\"M0 0h24v24H0V0z\" fill=\"none\"/>\n",
              "    <path d=\"M18.56 5.44l.94 2.06.94-2.06 2.06-.94-2.06-.94-.94-2.06-.94 2.06-2.06.94zm-11 1L8.5 8.5l.94-2.06 2.06-.94-2.06-.94L8.5 2.5l-.94 2.06-2.06.94zm10 10l.94 2.06.94-2.06 2.06-.94-2.06-.94-.94-2.06-.94 2.06-2.06.94z\"/><path d=\"M17.41 7.96l-1.37-1.37c-.4-.4-.92-.59-1.43-.59-.52 0-1.04.2-1.43.59L10.3 9.45l-7.72 7.72c-.78.78-.78 2.05 0 2.83L4 21.41c.39.39.9.59 1.41.59.51 0 1.02-.2 1.41-.59l7.78-7.78 2.81-2.81c.8-.78.8-2.07 0-2.86zM5.41 20L4 18.59l7.72-7.72 1.47 1.35L5.41 20z\"/>\n",
              "  </svg>\n",
              "      </button>\n",
              "      \n",
              "  <style>\n",
              "    .colab-df-container {\n",
              "      display:flex;\n",
              "      flex-wrap:wrap;\n",
              "      gap: 12px;\n",
              "    }\n",
              "\n",
              "    .colab-df-convert {\n",
              "      background-color: #E8F0FE;\n",
              "      border: none;\n",
              "      border-radius: 50%;\n",
              "      cursor: pointer;\n",
              "      display: none;\n",
              "      fill: #1967D2;\n",
              "      height: 32px;\n",
              "      padding: 0 0 0 0;\n",
              "      width: 32px;\n",
              "    }\n",
              "\n",
              "    .colab-df-convert:hover {\n",
              "      background-color: #E2EBFA;\n",
              "      box-shadow: 0px 1px 2px rgba(60, 64, 67, 0.3), 0px 1px 3px 1px rgba(60, 64, 67, 0.15);\n",
              "      fill: #174EA6;\n",
              "    }\n",
              "\n",
              "    [theme=dark] .colab-df-convert {\n",
              "      background-color: #3B4455;\n",
              "      fill: #D2E3FC;\n",
              "    }\n",
              "\n",
              "    [theme=dark] .colab-df-convert:hover {\n",
              "      background-color: #434B5C;\n",
              "      box-shadow: 0px 1px 3px 1px rgba(0, 0, 0, 0.15);\n",
              "      filter: drop-shadow(0px 1px 2px rgba(0, 0, 0, 0.3));\n",
              "      fill: #FFFFFF;\n",
              "    }\n",
              "  </style>\n",
              "\n",
              "      <script>\n",
              "        const buttonEl =\n",
              "          document.querySelector('#df-59c7ef03-2920-4609-94ab-381d1425e57c button.colab-df-convert');\n",
              "        buttonEl.style.display =\n",
              "          google.colab.kernel.accessAllowed ? 'block' : 'none';\n",
              "\n",
              "        async function convertToInteractive(key) {\n",
              "          const element = document.querySelector('#df-59c7ef03-2920-4609-94ab-381d1425e57c');\n",
              "          const dataTable =\n",
              "            await google.colab.kernel.invokeFunction('convertToInteractive',\n",
              "                                                     [key], {});\n",
              "          if (!dataTable) return;\n",
              "\n",
              "          const docLinkHtml = 'Like what you see? Visit the ' +\n",
              "            '<a target=\"_blank\" href=https://colab.research.google.com/notebooks/data_table.ipynb>data table notebook</a>'\n",
              "            + ' to learn more about interactive tables.';\n",
              "          element.innerHTML = '';\n",
              "          dataTable['output_type'] = 'display_data';\n",
              "          await google.colab.output.renderOutput(dataTable, element);\n",
              "          const docLink = document.createElement('div');\n",
              "          docLink.innerHTML = docLinkHtml;\n",
              "          element.appendChild(docLink);\n",
              "        }\n",
              "      </script>\n",
              "    </div>\n",
              "  </div>\n",
              "  "
            ]
          },
          "metadata": {},
          "execution_count": 85
        }
      ]
    }
  ]
}